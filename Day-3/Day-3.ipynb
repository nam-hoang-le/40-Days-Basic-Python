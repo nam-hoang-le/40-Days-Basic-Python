{
 "cells": [
  {
   "cell_type": "code",
   "execution_count": 6,
   "metadata": {},
   "outputs": [],
   "source": [
    "import math \n",
    "\n",
    "def quadratic_equation(a, b, c): \n",
    "    x1 = 0 \n",
    "    x2 = 0 \n",
    "    delta = (b**2 - 4*a*c)\n",
    "    if delta > 0: \n",
    "        x1 = (-b - math.sqrt(delta))/(2*a)\n",
    "        x2 = (-b + math.sqrt(delta))/(2*a)\n",
    "        return x1, x2\n",
    "    elif delta == 0: \n",
    "        x1 = x2 = (-b)/(2*a)\n",
    "        return x1, x2\n",
    "    else: \n",
    "        print(\"Phương trình vô nghiệm\")"
   ]
  },
  {
   "cell_type": "code",
   "execution_count": 7,
   "metadata": {},
   "outputs": [
    {
     "data": {
      "text/plain": [
       "(-2.0, -1.0)"
      ]
     },
     "execution_count": 7,
     "metadata": {},
     "output_type": "execute_result"
    }
   ],
   "source": [
    "quadratic_equation(2, 6, 4)"
   ]
  },
  {
   "cell_type": "code",
   "execution_count": 8,
   "metadata": {},
   "outputs": [
    {
     "data": {
      "text/plain": [
       "(-1.0, -1.0)"
      ]
     },
     "execution_count": 8,
     "metadata": {},
     "output_type": "execute_result"
    }
   ],
   "source": [
    "quadratic_equation(1, 2, 1)"
   ]
  },
  {
   "cell_type": "code",
   "execution_count": 9,
   "metadata": {},
   "outputs": [
    {
     "name": "stdout",
     "output_type": "stream",
     "text": [
      "Phương trình vô nghiệm\n"
     ]
    }
   ],
   "source": [
    "quadratic_equation(4, 6, 3)"
   ]
  }
 ],
 "metadata": {
  "kernelspec": {
   "display_name": "Nam",
   "language": "python",
   "name": "python3"
  },
  "language_info": {
   "codemirror_mode": {
    "name": "ipython",
    "version": 3
   },
   "file_extension": ".py",
   "mimetype": "text/x-python",
   "name": "python",
   "nbconvert_exporter": "python",
   "pygments_lexer": "ipython3",
   "version": "3.12.2"
  }
 },
 "nbformat": 4,
 "nbformat_minor": 2
}
