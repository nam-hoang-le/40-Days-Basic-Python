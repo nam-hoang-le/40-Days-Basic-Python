{
 "cells": [
  {
   "cell_type": "code",
   "execution_count": 2,
   "metadata": {},
   "outputs": [
    {
     "name": "stdout",
     "output_type": "stream",
     "text": [
      "Wake up\n"
     ]
    }
   ],
   "source": [
    "time = int(input('Nhập thời gian hoạt động của TOM'))\n",
    "\n",
    "if time == 5: \n",
    "    print('Wake up')\n",
    "elif time == 6: \n",
    "    print('Yoga')\n",
    "elif time == 7: \n",
    "    print('Work')\n",
    "else: \n",
    "    print('Do something else!')"
   ]
  },
  {
   "cell_type": "code",
   "execution_count": 4,
   "metadata": {},
   "outputs": [
    {
     "data": {
      "text/plain": [
       "'Do something else'"
      ]
     },
     "execution_count": 4,
     "metadata": {},
     "output_type": "execute_result"
    }
   ],
   "source": [
    "dict = {5: 'Wake up', 6: 'Yoga', 7: 'Do something else'}\n",
    "time = int(input('Nhập thời gian hoạt động của TOM'))\n",
    "dict.get(time, 'Do something else')"
   ]
  },
  {
   "cell_type": "code",
   "execution_count": 5,
   "metadata": {},
   "outputs": [
    {
     "name": "stdout",
     "output_type": "stream",
     "text": [
      "Do something else\n"
     ]
    }
   ],
   "source": [
    "time = int(input('Nhập thời gian hoạt động của TOM'))\n",
    "\n",
    "match time: \n",
    "    case 5: \n",
    "        print('Wake up')\n",
    "    case 6: \n",
    "        print('Yoga')\n",
    "    case 7: \n",
    "        print('Work')\n",
    "    case _: \n",
    "        print('Do something else')"
   ]
  },
  {
   "cell_type": "code",
   "execution_count": null,
   "metadata": {},
   "outputs": [],
   "source": []
  }
 ],
 "metadata": {
  "kernelspec": {
   "display_name": "Nam",
   "language": "python",
   "name": "python3"
  },
  "language_info": {
   "codemirror_mode": {
    "name": "ipython",
    "version": 3
   },
   "file_extension": ".py",
   "mimetype": "text/x-python",
   "name": "python",
   "nbconvert_exporter": "python",
   "pygments_lexer": "ipython3",
   "version": "3.12.2"
  }
 },
 "nbformat": 4,
 "nbformat_minor": 2
}
