{
 "cells": [
  {
   "cell_type": "markdown",
   "metadata": {},
   "source": [
    "# Lý thuyết"
   ]
  },
  {
   "cell_type": "code",
   "execution_count": 1,
   "metadata": {},
   "outputs": [],
   "source": [
    "import sqlite3"
   ]
  },
  {
   "cell_type": "code",
   "execution_count": 2,
   "metadata": {},
   "outputs": [],
   "source": [
    "connection = sqlite3.connect('product.sqlite')"
   ]
  },
  {
   "cell_type": "code",
   "execution_count": 3,
   "metadata": {},
   "outputs": [],
   "source": [
    "cursor = connection.cursor()"
   ]
  },
  {
   "cell_type": "code",
   "execution_count": 4,
   "metadata": {},
   "outputs": [
    {
     "data": {
      "text/plain": [
       "<sqlite3.Cursor at 0x186a334f440>"
      ]
     },
     "execution_count": 4,
     "metadata": {},
     "output_type": "execute_result"
    }
   ],
   "source": [
    "cursor.execute('''\n",
    "    CREATE TABLE PRODUCT (\n",
    "        NAME TEXT PRIMARY KEY,\n",
    "        BRAND TEXT NOT NULL,\n",
    "        PRICE INTEGER NOT NULL\n",
    "    );\n",
    "'''\n",
    ")"
   ]
  },
  {
   "cell_type": "code",
   "execution_count": 5,
   "metadata": {},
   "outputs": [
    {
     "data": {
      "text/plain": [
       "<sqlite3.Cursor at 0x186a334f440>"
      ]
     },
     "execution_count": 5,
     "metadata": {},
     "output_type": "execute_result"
    }
   ],
   "source": [
    "cursor.execute('''\n",
    "    INSERT INTO PRODUCT VALUES\n",
    "    ('Nam', 'LV', 19000000), \n",
    "    ('Nu', 'Adidas', 2000000)\n",
    "''')"
   ]
  },
  {
   "cell_type": "code",
   "execution_count": 6,
   "metadata": {},
   "outputs": [],
   "source": [
    "connection.commit()"
   ]
  },
  {
   "cell_type": "code",
   "execution_count": 7,
   "metadata": {},
   "outputs": [],
   "source": [
    "import pandas as pd "
   ]
  },
  {
   "cell_type": "code",
   "execution_count": 8,
   "metadata": {},
   "outputs": [
    {
     "name": "stdout",
     "output_type": "stream",
     "text": [
      "   total_revenue\n",
      "0       21000000\n"
     ]
    }
   ],
   "source": [
    "query = '''\n",
    "SELECT SUM(price) AS total_revenue \n",
    "FROM PRODUCT \n",
    "'''\n",
    "\n",
    "data_sum = pd.read_sql_query(query, connection)\n",
    "print(data_sum)"
   ]
  },
  {
   "cell_type": "code",
   "execution_count": 9,
   "metadata": {},
   "outputs": [
    {
     "name": "stdout",
     "output_type": "stream",
     "text": [
      "  NAME     PRICE\n",
      "0  Nam  19000000\n"
     ]
    }
   ],
   "source": [
    "query = ''' \n",
    "SELECT NAME, MAX(price) AS PRICE\n",
    "FROM PRODUCT;\n",
    "'''\n",
    "\n",
    "data_max = pd.read_sql_query(query, connection)\n",
    "print(data_max)"
   ]
  },
  {
   "cell_type": "code",
   "execution_count": 10,
   "metadata": {},
   "outputs": [
    {
     "name": "stdout",
     "output_type": "stream",
     "text": [
      "    BRAND  total_revenue\n",
      "0  Adidas        2000000\n",
      "1      LV       19000000\n"
     ]
    }
   ],
   "source": [
    "query = '''\n",
    "SELECT BRAND, SUM(price) AS total_revenue \n",
    "FROM PRODUCT \n",
    "GROUP BY BRAND;\n",
    "'''\n",
    "\n",
    "data_sum_by_brand = pd.read_sql_query(query, connection)\n",
    "print(data_sum_by_brand)"
   ]
  },
  {
   "cell_type": "code",
   "execution_count": 11,
   "metadata": {},
   "outputs": [
    {
     "name": "stdout",
     "output_type": "stream",
     "text": [
      "    BRAND     PRICE\n",
      "0  Adidas   2000000\n",
      "1      LV  19000000\n"
     ]
    }
   ],
   "source": [
    "query = '''\n",
    "SELECT BRAND, MIN(price) AS PRICE \n",
    "FROM PRODUCT \n",
    "GROUP BY BRAND;\n",
    "'''\n",
    "\n",
    "data_min_by_brand = pd.read_sql_query(query, connection)\n",
    "print(data_min_by_brand)"
   ]
  },
  {
   "cell_type": "markdown",
   "metadata": {},
   "source": [
    "# Bài tập"
   ]
  },
  {
   "cell_type": "code",
   "execution_count": 12,
   "metadata": {},
   "outputs": [],
   "source": [
    "connection = sqlite3.connect('stock.sqlite')"
   ]
  },
  {
   "cell_type": "code",
   "execution_count": 13,
   "metadata": {},
   "outputs": [],
   "source": [
    "cursor = connection.cursor()"
   ]
  },
  {
   "cell_type": "code",
   "execution_count": 14,
   "metadata": {},
   "outputs": [
    {
     "data": {
      "text/plain": [
       "<sqlite3.Cursor at 0x186a4ab73c0>"
      ]
     },
     "execution_count": 14,
     "metadata": {},
     "output_type": "execute_result"
    }
   ],
   "source": [
    "cursor.execute('''\n",
    "    CREATE TABLE STOCK (\n",
    "        ID INTEGER PRIMARY KEY,\n",
    "        NAME TEXT NOT NULL,\n",
    "        BUY INTEGER NOT NULL, \n",
    "        INVESTOR TEXT NOT NULL\n",
    "    );\n",
    "''')"
   ]
  },
  {
   "cell_type": "code",
   "execution_count": 15,
   "metadata": {},
   "outputs": [
    {
     "data": {
      "text/plain": [
       "<sqlite3.Cursor at 0x186a4ab73c0>"
      ]
     },
     "execution_count": 15,
     "metadata": {},
     "output_type": "execute_result"
    }
   ],
   "source": [
    "cursor.execute('''\n",
    "    INSERT INTO STOCK \n",
    "    VALUES \n",
    "        (1, 'ACB', 29.45, 'Nguyen'), \n",
    "        (2, 'VIC', 44.55, 'Nguyen'), \n",
    "        (3, 'GMD', 74.30, 'Nguyen'), \n",
    "        (4, 'ACB', 28.45, 'Vinh'), \n",
    "        (5, 'VIC', 40.55, 'Vinh'), \n",
    "        (6, 'GMD', 60.30, 'Vinh')\n",
    "''')"
   ]
  },
  {
   "cell_type": "code",
   "execution_count": 17,
   "metadata": {},
   "outputs": [],
   "source": [
    "connection.commit()"
   ]
  },
  {
   "cell_type": "code",
   "execution_count": 16,
   "metadata": {},
   "outputs": [
    {
     "name": "stdout",
     "output_type": "stream",
     "text": [
      "   ID NAME    BUY INVESTOR\n",
      "0   1  ACB  29.45   Nguyen\n",
      "1   2  VIC  44.55   Nguyen\n",
      "2   3  GMD  74.30   Nguyen\n",
      "3   4  ACB  28.45     Vinh\n",
      "4   5  VIC  40.55     Vinh\n",
      "5   6  GMD  60.30     Vinh\n"
     ]
    }
   ],
   "source": [
    "query = ''' \n",
    "SELECT *\n",
    "FROM STOCK;\n",
    "'''\n",
    "\n",
    "data_all = pd.read_sql_query(query, connection)\n",
    "print(data_all)"
   ]
  },
  {
   "cell_type": "code",
   "execution_count": 20,
   "metadata": {},
   "outputs": [
    {
     "name": "stdout",
     "output_type": "stream",
     "text": [
      "   TONG_GIA_BAN\n",
      "0         277.6\n"
     ]
    }
   ],
   "source": [
    "query = ''' \n",
    "SELECT SUM(BUY) AS TONG_GIA_BAN\n",
    "FROM STOCK\n",
    "'''\n",
    "\n",
    "data_sum = pd.read_sql_query(query, connection)\n",
    "print(data_sum)"
   ]
  },
  {
   "cell_type": "code",
   "execution_count": 23,
   "metadata": {},
   "outputs": [
    {
     "name": "stdout",
     "output_type": "stream",
     "text": [
      "  INVESTOR  MAX_PRICE\n",
      "0   Nguyen       74.3\n",
      "1     Vinh       60.3\n"
     ]
    }
   ],
   "source": [
    "query = ''' \n",
    "SELECT INVESTOR, MAX(BUY) AS MAX_PRICE\n",
    "FROM STOCK\n",
    "GROUP BY INVESTOR\n",
    "'''\n",
    "\n",
    "data_highest = pd.read_sql_query(query, connection)\n",
    "print(data_highest)"
   ]
  },
  {
   "cell_type": "code",
   "execution_count": null,
   "metadata": {},
   "outputs": [],
   "source": []
  }
 ],
 "metadata": {
  "kernelspec": {
   "display_name": "Nam",
   "language": "python",
   "name": "python3"
  },
  "language_info": {
   "codemirror_mode": {
    "name": "ipython",
    "version": 3
   },
   "file_extension": ".py",
   "mimetype": "text/x-python",
   "name": "python",
   "nbconvert_exporter": "python",
   "pygments_lexer": "ipython3",
   "version": "3.12.2"
  }
 },
 "nbformat": 4,
 "nbformat_minor": 2
}
