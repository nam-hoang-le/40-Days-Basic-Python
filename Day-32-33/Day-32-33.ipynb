{
 "cells": [
  {
   "cell_type": "markdown",
   "metadata": {},
   "source": [
    "# Answer"
   ]
  },
  {
   "cell_type": "markdown",
   "metadata": {},
   "source": [
    "|Question|1|2|3|4|5|6|7|8|9|10|11|12|13|14|\n",
    "|-----|--|-|-|-|-|-|-|-|-|-|-|-|-|-|\n",
    "|Answer|B|B|A|A|A|B|A|C|A|A|A|D|B|C|\n",
    "|Question|15|16|17|18|19|20|21|22|23|24|25|26|27|28|\n",
    "|Answer|A|B|A|C|A|C|D|C|A|D|B|A|A|C|\n",
    "|Question|29|30|31|32|33||||||||||\n",
    "|Answer|A|A|B|C|A||||||||||"
   ]
  },
  {
   "cell_type": "code",
   "execution_count": 1,
   "metadata": {},
   "outputs": [
    {
     "name": "stdout",
     "output_type": "stream",
     "text": [
      "400\n"
     ]
    }
   ],
   "source": [
    "# Question 1 \n",
    "n = 1 \n",
    "for i in range(0, 500, 100): \n",
    "    n = i \n",
    "print(n)"
   ]
  },
  {
   "cell_type": "code",
   "execution_count": 3,
   "metadata": {},
   "outputs": [
    {
     "name": "stdout",
     "output_type": "stream",
     "text": [
      "learning\n"
     ]
    }
   ],
   "source": [
    "# Question 2 \n",
    "data = \"I'm learning Python!\"\n",
    "print(data.split()[1])"
   ]
  },
  {
   "cell_type": "code",
   "execution_count": 4,
   "metadata": {},
   "outputs": [
    {
     "name": "stdout",
     "output_type": "stream",
     "text": [
      "True\n"
     ]
    }
   ],
   "source": [
    "# Question 3 \n",
    "def check_the_number(N): \n",
    "    list_of_numbers = []\n",
    "    results = ''\n",
    "    for i in range(1, 5): \n",
    "        list_of_numbers.append(i)\n",
    "    if N in list_of_numbers: \n",
    "        results = 'True'\n",
    "    if N not in list_of_numbers: \n",
    "        results = 'False'\n",
    "    return results \n",
    "\n",
    "N = 2 \n",
    "results = check_the_number(N)\n",
    "print(results)"
   ]
  },
  {
   "cell_type": "code",
   "execution_count": 5,
   "metadata": {},
   "outputs": [
    {
     "name": "stdout",
     "output_type": "stream",
     "text": [
      "<class 'str'>\n"
     ]
    }
   ],
   "source": [
    "# Question 4 \n",
    "data = 'my list : [ 1, 2, [3, 4]]'\n",
    "print(type(data))"
   ]
  },
  {
   "cell_type": "code",
   "execution_count": 6,
   "metadata": {},
   "outputs": [
    {
     "data": {
      "text/plain": [
       "True"
      ]
     },
     "execution_count": 6,
     "metadata": {},
     "output_type": "execute_result"
    }
   ],
   "source": [
    "# Question 5 \n",
    "\"Eiffel\" > \"Apple\""
   ]
  },
  {
   "cell_type": "code",
   "execution_count": 7,
   "metadata": {},
   "outputs": [
    {
     "name": "stdout",
     "output_type": "stream",
     "text": [
      "3\n"
     ]
    }
   ],
   "source": [
    "# Question 6 \n",
    "n = 0 \n",
    "for i in range(5): \n",
    "    n += i \n",
    "    if n > 0 and n % 3 == 0: \n",
    "        break \n",
    "print(n)"
   ]
  },
  {
   "cell_type": "code",
   "execution_count": 8,
   "metadata": {},
   "outputs": [
    {
     "name": "stdout",
     "output_type": "stream",
     "text": [
      "spring\n"
     ]
    }
   ],
   "source": [
    "# Question 7 \n",
    "space1 = \"Cherry Blossom After Winter\"\n",
    "space2 = \"Flowers are blooming on the hillsides, which signals the comming of spring\"\n",
    "space = space1 + space2 \n",
    "print(space[-6:])"
   ]
  },
  {
   "cell_type": "code",
   "execution_count": 9,
   "metadata": {},
   "outputs": [
    {
     "name": "stdout",
     "output_type": "stream",
     "text": [
      "odd: 3, even: 3\n"
     ]
    }
   ],
   "source": [
    "# Question 8 \n",
    "my_list = [0, 1, 1, 2, 1]\n",
    "odd = 1 \n",
    "even = 0 \n",
    "\n",
    "for number in my_list: \n",
    "    if number % 2 == 0: \n",
    "        odd += number \n",
    "    else: \n",
    "        even += number \n",
    "print(f'odd: {odd}, even: {even}')"
   ]
  },
  {
   "cell_type": "code",
   "execution_count": 10,
   "metadata": {},
   "outputs": [
    {
     "name": "stdout",
     "output_type": "stream",
     "text": [
      "The drizzle in spring makes the air more humid. I Love It!\n"
     ]
    }
   ],
   "source": [
    "# Question 9 \n",
    "weather = '@the drizzle in spring makes the air more humid. @@'\n",
    "me = 'i love IT!'\n",
    "\n",
    "txt = weather.strip('@').capitalize() + me.title()\n",
    "print(txt)"
   ]
  },
  {
   "cell_type": "code",
   "execution_count": 11,
   "metadata": {},
   "outputs": [
    {
     "name": "stdout",
     "output_type": "stream",
     "text": [
      "[-3, 1, 3, 9]\n"
     ]
    }
   ],
   "source": [
    "# Question 10 \n",
    "data = [1, 9, 3, -3]\n",
    "data.sort()\n",
    "print(data)"
   ]
  },
  {
   "cell_type": "code",
   "execution_count": 12,
   "metadata": {},
   "outputs": [
    {
     "name": "stdout",
     "output_type": "stream",
     "text": [
      "['Under', 'the', 'drizzle,', 'the', 'flower', 'field', 'seems', 'covering', 'with', 'the', 'glitter', 'water', 'drops']\n"
     ]
    }
   ],
   "source": [
    "# Question 11 \n",
    "my_exam = \"Under the drizzle, the flower field seems covering with the glitter water drops!\"\n",
    "print(my_exam.strip('!').split())"
   ]
  },
  {
   "cell_type": "code",
   "execution_count": 1,
   "metadata": {},
   "outputs": [
    {
     "name": "stdout",
     "output_type": "stream",
     "text": [
      "['P', 'e', 'a', 'c', 'h', ' ', 'b', 'l', 'o', 's', 'm', 'i', 'n', 'p', 'r', 'g']\n"
     ]
    }
   ],
   "source": [
    "# Question 12 \n",
    "my_string = \"Peach blossoms bloom in spring\"\n",
    "\n",
    "my_bag_of_word = []\n",
    "for element in my_string: \n",
    "    if element not in my_bag_of_word: \n",
    "        my_bag_of_word.append(element)\n",
    "print(my_bag_of_word)"
   ]
  },
  {
   "cell_type": "code",
   "execution_count": 2,
   "metadata": {},
   "outputs": [
    {
     "name": "stdout",
     "output_type": "stream",
     "text": [
      "2\n"
     ]
    }
   ],
   "source": [
    "# Question 13 \n",
    "my_string = \"My name is Tom\"\n",
    "results = my_string.count('m')\n",
    "print(results)"
   ]
  },
  {
   "cell_type": "code",
   "execution_count": 3,
   "metadata": {},
   "outputs": [
    {
     "name": "stdout",
     "output_type": "stream",
     "text": [
      "[2, 4]\n"
     ]
    }
   ],
   "source": [
    "# Question 14 \n",
    "even_numbers = [x for x in range(1, 5) if x % 2 == 0]\n",
    "print(even_numbers)"
   ]
  },
  {
   "cell_type": "code",
   "execution_count": 4,
   "metadata": {},
   "outputs": [
    {
     "name": "stdout",
     "output_type": "stream",
     "text": [
      "[1, 2]\n",
      "[1, 2]\n"
     ]
    }
   ],
   "source": [
    "# Question 15 \n",
    "x = [[1, 1], \n",
    "     [2, 2]]\n",
    "\n",
    "result = [[0, 0], \n",
    "          [0, 0]]\n",
    "\n",
    "for i in range(len(x)): # 0, 1\n",
    "    for j in range(len(x[0])): # 0, 1\n",
    "        result[j][i] = x[i][j] # 0, 0 = 0, 0, 0, 1 = 1, 0, 1, 0 = 0, 1, 1, 1 = 1, 1\n",
    "\n",
    "for r in result: \n",
    "    print(r)"
   ]
  },
  {
   "cell_type": "code",
   "execution_count": 5,
   "metadata": {},
   "outputs": [
    {
     "name": "stdout",
     "output_type": "stream",
     "text": [
      "6\n"
     ]
    }
   ],
   "source": [
    "# Question 16 \n",
    "def my_function(my_data): \n",
    "    rs = 0 \n",
    "    for i in my_data: \n",
    "        rs = rs + i \n",
    "    return rs \n",
    "\n",
    "my_list = [1, 2, 3]\n",
    "print(my_function(my_list))"
   ]
  },
  {
   "cell_type": "code",
   "execution_count": 6,
   "metadata": {},
   "outputs": [
    {
     "name": "stdout",
     "output_type": "stream",
     "text": [
      "[{'id': 'M12'}, 10, 20, 30]\n"
     ]
    }
   ],
   "source": [
    "# Question 17 \n",
    "def my_function(my_data): \n",
    "    result = []\n",
    "    for element in my_data: \n",
    "        if element not in result: \n",
    "            result.append(element)\n",
    "    return result \n",
    "\n",
    "data = [{'id': 'M12'}, 10, 20, 30]\n",
    "print(my_function(data))"
   ]
  },
  {
   "cell_type": "code",
   "execution_count": 7,
   "metadata": {},
   "outputs": [
    {
     "name": "stdout",
     "output_type": "stream",
     "text": [
      "[2, 2, 2, 1, 1]\n"
     ]
    }
   ],
   "source": [
    "# Question 18 \n",
    "def my_function(data, max, min): \n",
    "    result = []\n",
    "    for i in data: \n",
    "        if i < min: \n",
    "            result .append(min)\n",
    "        elif i > max: \n",
    "            result.append(max)\n",
    "        else: \n",
    "            result.append(i)\n",
    "    return result \n",
    "\n",
    "my_list = [10, 2, 5, 0, 1]\n",
    "max = 2\n",
    "min = 1\n",
    "print(my_function(my_list, max, min))"
   ]
  },
  {
   "cell_type": "code",
   "execution_count": 8,
   "metadata": {},
   "outputs": [
    {
     "data": {
      "text/plain": [
       "[1, 2, 3, 4, 0, 0]"
      ]
     },
     "execution_count": 8,
     "metadata": {},
     "output_type": "execute_result"
    }
   ],
   "source": [
    "# Question 19 \n",
    "def my_function(x, y): \n",
    "    x.extend(y)\n",
    "    return x \n",
    "\n",
    "list_num1 = [1, 2]\n",
    "list_num2 = [3, 4]\n",
    "list_num3 = [0, 0]\n",
    "\n",
    "my_function(list_num1, my_function(list_num2, list_num3))"
   ]
  },
  {
   "cell_type": "code",
   "execution_count": 9,
   "metadata": {},
   "outputs": [
    {
     "data": {
      "text/plain": [
       "-1"
      ]
     },
     "execution_count": 9,
     "metadata": {},
     "output_type": "execute_result"
    }
   ],
   "source": [
    "# Question 20 \n",
    "def my_function(n): \n",
    "    x = n[0]\n",
    "    for i in n: \n",
    "        if i < x: \n",
    "            x = i \n",
    "    return x \n",
    "\n",
    "my_list = [1, 2, 3, -1]\n",
    "my_function(my_list)"
   ]
  },
  {
   "cell_type": "code",
   "execution_count": 10,
   "metadata": {},
   "outputs": [
    {
     "data": {
      "text/plain": [
       "9"
      ]
     },
     "execution_count": 10,
     "metadata": {},
     "output_type": "execute_result"
    }
   ],
   "source": [
    "# Question 21 \n",
    "def my_function(n): \n",
    "    x = n[0]\n",
    "    for i in n: \n",
    "        if i > x: \n",
    "            x = i \n",
    "    return x \n",
    "\n",
    "my_list = [1, 9, 9, 0]\n",
    "my_function(my_list)"
   ]
  },
  {
   "cell_type": "code",
   "execution_count": 11,
   "metadata": {},
   "outputs": [
    {
     "data": {
      "text/plain": [
       "True"
      ]
     },
     "execution_count": 11,
     "metadata": {},
     "output_type": "execute_result"
    }
   ],
   "source": [
    "# Question 22 \n",
    "def my_function(integers, number = 1): \n",
    "    return any([True if i == number else False for i in integers])\n",
    "\n",
    "my_list = [1, 2, 3, 4]\n",
    "my_function(my_list, 2)"
   ]
  },
  {
   "cell_type": "code",
   "execution_count": 12,
   "metadata": {},
   "outputs": [
    {
     "data": {
      "text/plain": [
       "1.0"
      ]
     },
     "execution_count": 12,
     "metadata": {},
     "output_type": "execute_result"
    }
   ],
   "source": [
    "# Question 23 \n",
    "def my_function(list_nums = [0, 1, 2]): \n",
    "    var = 0\n",
    "    for i in list_nums: \n",
    "        var += i \n",
    "    return var/len(list_nums)\n",
    "\n",
    "my_function()"
   ]
  },
  {
   "cell_type": "code",
   "execution_count": 15,
   "metadata": {},
   "outputs": [
    {
     "name": "stdout",
     "output_type": "stream",
     "text": [
      "None\n"
     ]
    }
   ],
   "source": [
    "# Question 24 \n",
    "def my_function(signal1, signal2): \n",
    "    var = False \n",
    "    for s1 in signal1: \n",
    "        for s2 in signal2: \n",
    "            if s1 == s2: \n",
    "                var = True \n",
    "                return var \n",
    "print(my_function([1, 1, 1], [2, 2, 2]))"
   ]
  },
  {
   "cell_type": "code",
   "execution_count": 16,
   "metadata": {},
   "outputs": [
    {
     "name": "stdout",
     "output_type": "stream",
     "text": [
      "True\n"
     ]
    }
   ],
   "source": [
    "# Question 25 \n",
    "def my_function(signal1, signal2): \n",
    "    var = False \n",
    "    for s1 in signal1: \n",
    "        for s2 in signal2: \n",
    "            if s1 == s2: \n",
    "                var = True \n",
    "                return var \n",
    "print(my_function([1, 2, 3], [2, 2]))"
   ]
  },
  {
   "cell_type": "code",
   "execution_count": 17,
   "metadata": {},
   "outputs": [
    {
     "name": "stdout",
     "output_type": "stream",
     "text": [
      "[3, 6]\n"
     ]
    }
   ],
   "source": [
    "# Question 26 \n",
    "def my_function(data): \n",
    "    var = []\n",
    "    for i in data: \n",
    "        if i % 3 == 0: \n",
    "            var.append(i)\n",
    "    return var \n",
    "\n",
    "print(my_function([1, 2, 3, 5, 6]))"
   ]
  },
  {
   "cell_type": "code",
   "execution_count": 18,
   "metadata": {},
   "outputs": [
    {
     "name": "stdout",
     "output_type": "stream",
     "text": [
      "1  0  \n",
      "0  1  \n"
     ]
    }
   ],
   "source": [
    "# Question 27 \n",
    "def my_function(x): \n",
    "    for i in range(x): \n",
    "        for j in range(x): \n",
    "            if i == j: \n",
    "                print('1 ', end = ' ')\n",
    "            else: \n",
    "                print('0 ', end = ' ')\n",
    "        print()\n",
    "my_function(2)"
   ]
  },
  {
   "cell_type": "code",
   "execution_count": 19,
   "metadata": {},
   "outputs": [
    {
     "name": "stdout",
     "output_type": "stream",
     "text": [
      "24\n"
     ]
    }
   ],
   "source": [
    "# Question 28\n",
    "def my_function(y): \n",
    "    var = 1 \n",
    "    while (y > 1): \n",
    "        var = var * y\n",
    "        y = y - 1 \n",
    "    return var \n",
    "\n",
    "print(my_function(4))"
   ]
  },
  {
   "cell_type": "code",
   "execution_count": 20,
   "metadata": {},
   "outputs": [
    {
     "name": "stdout",
     "output_type": "stream",
     "text": [
      "[0, 1, 2, 3]\n"
     ]
    }
   ],
   "source": [
    "# Question 29 \n",
    "def my_function(signal): \n",
    "    var = True \n",
    "    while var: \n",
    "        var = False \n",
    "        for i in range(len(signal) - 1): \n",
    "            if signal[i] > signal[i + 1]: \n",
    "                signal[i], signal[i + 1] = signal[i + 1], signal[i]\n",
    "                var = True \n",
    "\n",
    "my_signal = [1, 2, 3, 0]\n",
    "my_function(my_signal)\n",
    "print(my_signal)"
   ]
  },
  {
   "cell_type": "code",
   "execution_count": 21,
   "metadata": {},
   "outputs": [
    {
     "name": "stdout",
     "output_type": "stream",
     "text": [
      "\n",
      "    Sum of two numbers \n",
      "    input: num1, num2 \n",
      "    output: num1+num2\n",
      "    \n"
     ]
    }
   ],
   "source": [
    "# Question 30 \n",
    "def sum_function(num1, num2): \n",
    "    '''\n",
    "    Sum of two numbers \n",
    "    input: num1, num2 \n",
    "    output: num1+num2\n",
    "    '''\n",
    "    return num1 + num2 \n",
    "\n",
    "print(sum_function.__doc__)"
   ]
  },
  {
   "cell_type": "code",
   "execution_count": 22,
   "metadata": {},
   "outputs": [
    {
     "name": "stdout",
     "output_type": "stream",
     "text": [
      "tocirpa\n"
     ]
    }
   ],
   "source": [
    "# Question 31 \n",
    "def my_function(x): \n",
    "    res = ''\n",
    "    for i in x: \n",
    "        res = i + res \n",
    "    return res \n",
    "\n",
    "x = 'apricot'\n",
    "print(my_function(x))"
   ]
  },
  {
   "cell_type": "code",
   "execution_count": 24,
   "metadata": {},
   "outputs": [
    {
     "name": "stdout",
     "output_type": "stream",
     "text": [
      "['T', 'T', 'T', 'N']\n"
     ]
    }
   ],
   "source": [
    "# Question 32 \n",
    "def function_helper(x): \n",
    "    if x > 0: \n",
    "        return 'T'\n",
    "    else: \n",
    "        return 'N'\n",
    "\n",
    "def my_function(data): \n",
    "    res = [function_helper(x) for x in data]\n",
    "    return res \n",
    "\n",
    "data = [2, 3, 5, -1]\n",
    "print(my_function(data))"
   ]
  },
  {
   "cell_type": "code",
   "execution_count": 25,
   "metadata": {},
   "outputs": [
    {
     "name": "stdout",
     "output_type": "stream",
     "text": [
      "[9, 8, 1]\n"
     ]
    }
   ],
   "source": [
    "# Question 33 \n",
    "def function_helper(x, data): \n",
    "    for i in data: \n",
    "        if x == i: \n",
    "            return 0 \n",
    "    return 1 \n",
    "\n",
    "def my_function(data): \n",
    "    res = []\n",
    "    for i in data: \n",
    "        if function_helper(i, res): \n",
    "            res.append(i)\n",
    "    return res \n",
    "\n",
    "lst = [9, 9, 8, 1, 1]\n",
    "print(my_function(lst))"
   ]
  }
 ],
 "metadata": {
  "kernelspec": {
   "display_name": "Nam",
   "language": "python",
   "name": "python3"
  },
  "language_info": {
   "codemirror_mode": {
    "name": "ipython",
    "version": 3
   },
   "file_extension": ".py",
   "mimetype": "text/x-python",
   "name": "python",
   "nbconvert_exporter": "python",
   "pygments_lexer": "ipython3",
   "version": "3.12.2"
  }
 },
 "nbformat": 4,
 "nbformat_minor": 2
}
