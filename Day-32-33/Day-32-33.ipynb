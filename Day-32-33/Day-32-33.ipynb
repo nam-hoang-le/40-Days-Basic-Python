{
 "cells": [
  {
   "cell_type": "markdown",
   "metadata": {},
   "source": [
    "# Answer"
   ]
  },
  {
   "cell_type": "markdown",
   "metadata": {},
   "source": [
    "|Question|1|2|3|4|5|6|7|8|9|10|11|12|13|14|\n",
    "|-----|--|-|-|-|-|-|-|-|-|-|-|-|-|-|\n",
    "|Answer|B|B|A|A|A|B|A|C|A|A|A|0|0|0|\n",
    "|Question|15|16|17|18|19|20|21|22|23|24|25|26|27|28|\n",
    "|Answer|0|0|0|0|0|0|0|0|0|0|0|0|0|0|\n",
    "|Question|29|30|31|32|33||||||||||\n",
    "|Answer|0|0|0|0|0||||||||||"
   ]
  },
  {
   "cell_type": "code",
   "execution_count": 1,
   "metadata": {},
   "outputs": [
    {
     "name": "stdout",
     "output_type": "stream",
     "text": [
      "400\n"
     ]
    }
   ],
   "source": [
    "# Question 1 \n",
    "n = 1 \n",
    "for i in range(0, 500, 100): \n",
    "    n = i \n",
    "print(n)"
   ]
  },
  {
   "cell_type": "code",
   "execution_count": 3,
   "metadata": {},
   "outputs": [
    {
     "name": "stdout",
     "output_type": "stream",
     "text": [
      "learning\n"
     ]
    }
   ],
   "source": [
    "# Question 2 \n",
    "data = \"I'm learning Python!\"\n",
    "print(data.split()[1])"
   ]
  },
  {
   "cell_type": "code",
   "execution_count": 4,
   "metadata": {},
   "outputs": [
    {
     "name": "stdout",
     "output_type": "stream",
     "text": [
      "True\n"
     ]
    }
   ],
   "source": [
    "# Question 3 \n",
    "def check_the_number(N): \n",
    "    list_of_numbers = []\n",
    "    results = ''\n",
    "    for i in range(1, 5): \n",
    "        list_of_numbers.append(i)\n",
    "    if N in list_of_numbers: \n",
    "        results = 'True'\n",
    "    if N not in list_of_numbers: \n",
    "        results = 'False'\n",
    "    return results \n",
    "\n",
    "N = 2 \n",
    "results = check_the_number(N)\n",
    "print(results)"
   ]
  },
  {
   "cell_type": "code",
   "execution_count": 5,
   "metadata": {},
   "outputs": [
    {
     "name": "stdout",
     "output_type": "stream",
     "text": [
      "<class 'str'>\n"
     ]
    }
   ],
   "source": [
    "# Question 4 \n",
    "data = 'my list : [ 1, 2, [3, 4]]'\n",
    "print(type(data))"
   ]
  },
  {
   "cell_type": "code",
   "execution_count": 6,
   "metadata": {},
   "outputs": [
    {
     "data": {
      "text/plain": [
       "True"
      ]
     },
     "execution_count": 6,
     "metadata": {},
     "output_type": "execute_result"
    }
   ],
   "source": [
    "# Question 5 \n",
    "\"Eiffel\" > \"Apple\""
   ]
  },
  {
   "cell_type": "code",
   "execution_count": 7,
   "metadata": {},
   "outputs": [
    {
     "name": "stdout",
     "output_type": "stream",
     "text": [
      "3\n"
     ]
    }
   ],
   "source": [
    "# Question 6 \n",
    "n = 0 \n",
    "for i in range(5): \n",
    "    n += i \n",
    "    if n > 0 and n % 3 == 0: \n",
    "        break \n",
    "print(n)"
   ]
  },
  {
   "cell_type": "code",
   "execution_count": 8,
   "metadata": {},
   "outputs": [
    {
     "name": "stdout",
     "output_type": "stream",
     "text": [
      "spring\n"
     ]
    }
   ],
   "source": [
    "# Question 7 \n",
    "space1 = \"Cherry Blossom After Winter\"\n",
    "space2 = \"Flowers are blooming on the hillsides, which signals the comming of spring\"\n",
    "space = space1 + space2 \n",
    "print(space[-6:])"
   ]
  },
  {
   "cell_type": "code",
   "execution_count": 9,
   "metadata": {},
   "outputs": [
    {
     "name": "stdout",
     "output_type": "stream",
     "text": [
      "odd: 3, even: 3\n"
     ]
    }
   ],
   "source": [
    "# Question 8 \n",
    "my_list = [0, 1, 1, 2, 1]\n",
    "odd = 1 \n",
    "even = 0 \n",
    "\n",
    "for number in my_list: \n",
    "    if number % 2 == 0: \n",
    "        odd += number \n",
    "    else: \n",
    "        even += number \n",
    "print(f'odd: {odd}, even: {even}')"
   ]
  },
  {
   "cell_type": "code",
   "execution_count": 10,
   "metadata": {},
   "outputs": [
    {
     "name": "stdout",
     "output_type": "stream",
     "text": [
      "The drizzle in spring makes the air more humid. I Love It!\n"
     ]
    }
   ],
   "source": [
    "# Question 9 \n",
    "weather = '@the drizzle in spring makes the air more humid. @@'\n",
    "me = 'i love IT!'\n",
    "\n",
    "txt = weather.strip('@').capitalize() + me.title()\n",
    "print(txt)"
   ]
  },
  {
   "cell_type": "code",
   "execution_count": 11,
   "metadata": {},
   "outputs": [
    {
     "name": "stdout",
     "output_type": "stream",
     "text": [
      "[-3, 1, 3, 9]\n"
     ]
    }
   ],
   "source": [
    "# Question 10 \n",
    "data = [1, 9, 3, -3]\n",
    "data.sort()\n",
    "print(data)"
   ]
  },
  {
   "cell_type": "code",
   "execution_count": 12,
   "metadata": {},
   "outputs": [
    {
     "name": "stdout",
     "output_type": "stream",
     "text": [
      "['Under', 'the', 'drizzle,', 'the', 'flower', 'field', 'seems', 'covering', 'with', 'the', 'glitter', 'water', 'drops']\n"
     ]
    }
   ],
   "source": [
    "# Question 11 \n",
    "my_exam = \"Under the drizzle, the flower field seems covering with the glitter water drops!\"\n",
    "print(my_exam.strip('!').split())"
   ]
  },
  {
   "cell_type": "code",
   "execution_count": null,
   "metadata": {},
   "outputs": [],
   "source": [
    "# Question 12 \n",
    "my_string = \"Peach blossoms bloom in spring\"\n"
   ]
  }
 ],
 "metadata": {
  "kernelspec": {
   "display_name": "Nam",
   "language": "python",
   "name": "python3"
  },
  "language_info": {
   "codemirror_mode": {
    "name": "ipython",
    "version": 3
   },
   "file_extension": ".py",
   "mimetype": "text/x-python",
   "name": "python",
   "nbconvert_exporter": "python",
   "pygments_lexer": "ipython3",
   "version": "3.12.2"
  }
 },
 "nbformat": 4,
 "nbformat_minor": 2
}
