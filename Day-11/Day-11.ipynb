{
 "cells": [
  {
   "cell_type": "code",
   "execution_count": 9,
   "metadata": {},
   "outputs": [],
   "source": [
    "corpus = [\"Tôi thích môn Toán\", \"Tôi thích AI\", \"Tôi thích âm nhạc\"]\n",
    "vocab = set()\n",
    "\n",
    "# Extract unique words from the corpus\n",
    "for sentence in corpus: \n",
    "    words = sentence.split()\n",
    "    vocab.update(words)\n",
    "\n",
    "# The variable 'vocab' now contains the set of unique words in the corpus"
   ]
  },
  {
   "cell_type": "code",
   "execution_count": 10,
   "metadata": {},
   "outputs": [],
   "source": [
    "doc = \"Tôi thích AI thích Toán\"\n",
    "words = doc.split()\n",
    "vector = [0] * len(vocab)\n",
    "\n",
    "# Count the occurrences of each word in the document\n",
    "for word in words: \n",
    "    if word in vocab:\n",
    "        vector[list(vocab).index(word)] += 1\n",
    "\n",
    "# The variable 'vector' now contains the word frequency vector for the document"
   ]
  },
  {
   "cell_type": "code",
   "execution_count": 11,
   "metadata": {},
   "outputs": [
    {
     "data": {
      "text/plain": [
       "[0, 2, 1, 0, 0, 1, 1]"
      ]
     },
     "execution_count": 11,
     "metadata": {},
     "output_type": "execute_result"
    }
   ],
   "source": [
    "vector"
   ]
  }
 ],
 "metadata": {
  "kernelspec": {
   "display_name": "Nam",
   "language": "python",
   "name": "python3"
  },
  "language_info": {
   "codemirror_mode": {
    "name": "ipython",
    "version": 3
   },
   "file_extension": ".py",
   "mimetype": "text/x-python",
   "name": "python",
   "nbconvert_exporter": "python",
   "pygments_lexer": "ipython3",
   "version": "3.12.2"
  }
 },
 "nbformat": 4,
 "nbformat_minor": 2
}
