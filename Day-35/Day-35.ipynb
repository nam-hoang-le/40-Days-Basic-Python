{
 "cells": [
  {
   "cell_type": "markdown",
   "metadata": {},
   "source": [
    "# Lý thuyết"
   ]
  },
  {
   "cell_type": "code",
   "execution_count": 24,
   "metadata": {},
   "outputs": [],
   "source": [
    "import sqlite3"
   ]
  },
  {
   "cell_type": "code",
   "execution_count": 25,
   "metadata": {},
   "outputs": [],
   "source": [
    "connection = sqlite3.connect('database.sqlite')"
   ]
  },
  {
   "cell_type": "code",
   "execution_count": 26,
   "metadata": {},
   "outputs": [],
   "source": [
    "cursor = connection.cursor()"
   ]
  },
  {
   "cell_type": "code",
   "execution_count": 29,
   "metadata": {},
   "outputs": [
    {
     "data": {
      "text/plain": [
       "<sqlite3.Cursor at 0x266cd1ee140>"
      ]
     },
     "execution_count": 29,
     "metadata": {},
     "output_type": "execute_result"
    }
   ],
   "source": [
    "cursor.execute('''\n",
    "    CREATE TABLE CUSTOMERS (\n",
    "        EMAIL TEXT PRIMARY KEY,\n",
    "        NAME TEXT NOT NULL,\n",
    "        PHONE TEXT NOT NULL\n",
    "    );\n",
    "'''\n",
    ")"
   ]
  },
  {
   "cell_type": "code",
   "execution_count": 30,
   "metadata": {},
   "outputs": [],
   "source": [
    "cursor.execute('''\n",
    "    INSERT INTO CUSTOMERS VALUES\n",
    "               ('nguyen@aivietnam.edu.vn', 'Nguyen', '123456789'), \n",
    "               ('admin@aivietnam.edu.vn', 'Vinh', '1122334455')\n",
    "'''\n",
    ")\n",
    "connection.commit()"
   ]
  },
  {
   "cell_type": "code",
   "execution_count": 31,
   "metadata": {},
   "outputs": [],
   "source": [
    "import pandas as pd "
   ]
  },
  {
   "cell_type": "code",
   "execution_count": 32,
   "metadata": {},
   "outputs": [
    {
     "name": "stdout",
     "output_type": "stream",
     "text": [
      "                     EMAIL    NAME       PHONE\n",
      "0  nguyen@aivietnam.edu.vn  Nguyen   123456789\n",
      "1   admin@aivietnam.edu.vn    Vinh  1122334455\n"
     ]
    }
   ],
   "source": [
    "data = pd.read_sql(\"SELECT * FROM CUSTOMERS\", connection)\n",
    "print(data)"
   ]
  },
  {
   "cell_type": "code",
   "execution_count": 33,
   "metadata": {},
   "outputs": [
    {
     "name": "stdout",
     "output_type": "stream",
     "text": [
      "                     EMAIL          NAME       PHONE\n",
      "0  nguyen@aivietnam.edu.vn  Hoang Nguyen   123456789\n",
      "1   admin@aivietnam.edu.vn          Vinh  1122334455\n"
     ]
    }
   ],
   "source": [
    "cursor.execute('''\n",
    "UPDATE CUSTOMERS \n",
    "SET NAME = 'Hoang Nguyen'\n",
    "WHERE 1 = 1\n",
    "AND EMAIL = 'nguyen@aivietnam.edu.vn';\n",
    "''')\n",
    "\n",
    "connection.commit()\n",
    "\n",
    "data = pd.read_sql_query('SELECT * FROM CUSTOMERS', connection)\n",
    "print(data)"
   ]
  },
  {
   "cell_type": "code",
   "execution_count": 34,
   "metadata": {},
   "outputs": [
    {
     "data": {
      "text/plain": [
       "<sqlite3.Cursor at 0x266cd1ee140>"
      ]
     },
     "execution_count": 34,
     "metadata": {},
     "output_type": "execute_result"
    }
   ],
   "source": [
    "cursor.execute('''\n",
    "DELETE FROM CUSTOMERS \n",
    "WHERE 1 = 1\n",
    "AND EMAIL = 'nguyen@aivietnam.edu.vn'\n",
    "''')"
   ]
  },
  {
   "cell_type": "code",
   "execution_count": 35,
   "metadata": {},
   "outputs": [],
   "source": [
    "connection.commit()"
   ]
  },
  {
   "cell_type": "code",
   "execution_count": 36,
   "metadata": {},
   "outputs": [
    {
     "name": "stdout",
     "output_type": "stream",
     "text": [
      "                    EMAIL  NAME       PHONE\n",
      "0  admin@aivietnam.edu.vn  Vinh  1122334455\n"
     ]
    }
   ],
   "source": [
    "data = pd.read_sql_query(\"SELECT * FROM CUSTOMERS\", connection)\n",
    "print(data)"
   ]
  },
  {
   "cell_type": "markdown",
   "metadata": {},
   "source": [
    "# Bài tập"
   ]
  },
  {
   "cell_type": "code",
   "execution_count": 37,
   "metadata": {},
   "outputs": [],
   "source": [
    "connection = sqlite3.connect('exercise.sqlite')"
   ]
  },
  {
   "cell_type": "code",
   "execution_count": 38,
   "metadata": {},
   "outputs": [],
   "source": [
    "cursor = connection.cursor()"
   ]
  },
  {
   "cell_type": "code",
   "execution_count": 40,
   "metadata": {},
   "outputs": [
    {
     "data": {
      "text/plain": [
       "<sqlite3.Cursor at 0x266cd1f3ac0>"
      ]
     },
     "execution_count": 40,
     "metadata": {},
     "output_type": "execute_result"
    }
   ],
   "source": [
    "cursor.execute(\n",
    "'''\n",
    "CREATE TABLE PRODUCT (\n",
    "ID INTEGER PRIMARY KEY, \n",
    "NAME TEXT NOT NULL, \n",
    "PRICE INTEGER NOT NULL\n",
    ")\n",
    "'''\n",
    ")"
   ]
  },
  {
   "cell_type": "code",
   "execution_count": 41,
   "metadata": {},
   "outputs": [
    {
     "data": {
      "text/plain": [
       "<sqlite3.Cursor at 0x266cd1f3ac0>"
      ]
     },
     "execution_count": 41,
     "metadata": {},
     "output_type": "execute_result"
    }
   ],
   "source": [
    "cursor.execute(\n",
    "'''\n",
    "SELECT * \n",
    "FROM PRODUCT\n",
    "'''\n",
    ")"
   ]
  },
  {
   "cell_type": "code",
   "execution_count": 44,
   "metadata": {},
   "outputs": [],
   "source": [
    "cursor.execute(\n",
    "'''\n",
    "INSERT INTO PRODUCT (ID, NAME, PRICE)\n",
    "VALUES\n",
    "(1, 'iPhone 15', 18000000), \n",
    "(2, 'Galaxy Z-Fold 5', 30000000);\n",
    "'''\n",
    ")\n",
    "connection.commit()"
   ]
  },
  {
   "cell_type": "code",
   "execution_count": 46,
   "metadata": {},
   "outputs": [
    {
     "name": "stdout",
     "output_type": "stream",
     "text": [
      "   ID             NAME     PRICE\n",
      "0   1        iPhone 15  18000000\n",
      "1   2  Galaxy Z-Fold 5  30000000\n"
     ]
    }
   ],
   "source": [
    "data = pd.read_sql_query('SELECT * FROM PRODUCT', connection)\n",
    "print(data)"
   ]
  },
  {
   "cell_type": "code",
   "execution_count": 47,
   "metadata": {},
   "outputs": [
    {
     "name": "stdout",
     "output_type": "stream",
     "text": [
      "   ID             NAME     PRICE\n",
      "0   1        iPhone 15  18000000\n",
      "1   2  Galaxy Z-Fold 5  50000000\n"
     ]
    }
   ],
   "source": [
    "cursor.execute(\n",
    "'''\n",
    "UPDATE PRODUCT \n",
    "SET PRICE = 50000000\n",
    "WHERE 1 = 1 AND\n",
    "NAME = 'Galaxy Z-Fold 5'\n",
    "'''\n",
    ")\n",
    "connection.commit()\n",
    "\n",
    "data = pd.read_sql_query('SELECT * FROM PRODUCT', connection)\n",
    "print(data)"
   ]
  },
  {
   "cell_type": "code",
   "execution_count": 48,
   "metadata": {},
   "outputs": [
    {
     "name": "stdout",
     "output_type": "stream",
     "text": [
      "   ID             NAME     PRICE\n",
      "0   2  Galaxy Z-Fold 5  50000000\n"
     ]
    }
   ],
   "source": [
    "cursor.execute(\n",
    "'''\n",
    "DELETE FROM PRODUCT \n",
    "WHERE 1 = 1 AND\n",
    "NAME = 'iPhone 15'\n",
    "'''\n",
    ")\n",
    "connection.commit()\n",
    "\n",
    "data = pd.read_sql_query('SELECT * FROM PRODUCT', connection)\n",
    "print(data)"
   ]
  }
 ],
 "metadata": {
  "kernelspec": {
   "display_name": "Nam",
   "language": "python",
   "name": "python3"
  },
  "language_info": {
   "codemirror_mode": {
    "name": "ipython",
    "version": 3
   },
   "file_extension": ".py",
   "mimetype": "text/x-python",
   "name": "python",
   "nbconvert_exporter": "python",
   "pygments_lexer": "ipython3",
   "version": "3.12.2"
  }
 },
 "nbformat": 4,
 "nbformat_minor": 2
}
