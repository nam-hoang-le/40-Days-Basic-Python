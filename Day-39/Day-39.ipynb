{
 "cells": [
  {
   "cell_type": "markdown",
   "metadata": {},
   "source": [
    "# Theory"
   ]
  },
  {
   "cell_type": "markdown",
   "metadata": {},
   "source": [
    "## Type hints"
   ]
  },
  {
   "cell_type": "markdown",
   "metadata": {},
   "source": [
    "### Type hints for variable"
   ]
  },
  {
   "cell_type": "markdown",
   "metadata": {},
   "source": [
    "Doesn't use type hints"
   ]
  },
  {
   "cell_type": "code",
   "execution_count": 5,
   "metadata": {},
   "outputs": [
    {
     "name": "stdout",
     "output_type": "stream",
     "text": [
      "Welcome to AI VIETNAM 2024!\n"
     ]
    }
   ],
   "source": [
    "name = 'AI VIETNAM'\n",
    "year = 2024 \n",
    "\n",
    "print(f\"Welcome to {name} {year}!\")"
   ]
  },
  {
   "cell_type": "code",
   "execution_count": 3,
   "metadata": {},
   "outputs": [
    {
     "name": "stdout",
     "output_type": "stream",
     "text": [
      "Welcome to AI VIETNAM 2024!\n",
      "{'name': <class 'str'>, 'year': <class 'int'>}\n"
     ]
    }
   ],
   "source": [
    "name: str = \"AI VIETNAM\"\n",
    "year: int = 2024 \n",
    "\n",
    "print(f\"Welcome to {name} {year}!\")\n",
    "print(__annotations__)"
   ]
  },
  {
   "cell_type": "markdown",
   "metadata": {},
   "source": [
    "Suggest data types for list, tuple, boolean, variable"
   ]
  },
  {
   "cell_type": "code",
   "execution_count": 6,
   "metadata": {},
   "outputs": [],
   "source": [
    "numbers: list[int]\n",
    "person: tuple[str, int]\n",
    "value: int|float\n",
    "data: list[str]|tuple[int, int]\n",
    "info: tuple[list[int], dict]\n",
    "is_active: bool"
   ]
  },
  {
   "cell_type": "code",
   "execution_count": 7,
   "metadata": {},
   "outputs": [
    {
     "name": "stdout",
     "output_type": "stream",
     "text": [
      "{'name': <class 'str'>, 'year': <class 'int'>, 'numbers': list[int], 'person': tuple[str, int], 'value': int | float, 'data': list[str] | tuple[int, int], 'info': tuple[list[int], dict], 'is_active': <class 'bool'>}\n"
     ]
    }
   ],
   "source": [
    "print(__annotations__)"
   ]
  },
  {
   "cell_type": "code",
   "execution_count": 8,
   "metadata": {},
   "outputs": [
    {
     "ename": "NameError",
     "evalue": "name 'numbers' is not defined",
     "output_type": "error",
     "traceback": [
      "\u001b[1;31m---------------------------------------------------------------------------\u001b[0m",
      "\u001b[1;31mNameError\u001b[0m                                 Traceback (most recent call last)",
      "Cell \u001b[1;32mIn[8], line 1\u001b[0m\n\u001b[1;32m----> 1\u001b[0m \u001b[38;5;28mprint\u001b[39m(numbers, person, value, data, info)\n",
      "\u001b[1;31mNameError\u001b[0m: name 'numbers' is not defined"
     ]
    }
   ],
   "source": [
    "print(numbers, person, value, data, info)"
   ]
  },
  {
   "cell_type": "markdown",
   "metadata": {},
   "source": [
    "## Type hints for function"
   ]
  },
  {
   "cell_type": "code",
   "execution_count": 9,
   "metadata": {},
   "outputs": [
    {
     "name": "stdout",
     "output_type": "stream",
     "text": [
      "3.5\n",
      "{'x': <class 'int'>, 'y': <class 'int'>, 'return': <class 'int'>}\n"
     ]
    }
   ],
   "source": [
    "def add(x: int, y: int) -> int: \n",
    "    return x + y\n",
    "\n",
    "if __name__ == \"__main__\": \n",
    "    print(add(x = 1.5, y = 2))\n",
    "    print(add.__annotations__)"
   ]
  },
  {
   "cell_type": "markdown",
   "metadata": {},
   "source": [
    "## Type hints for class"
   ]
  },
  {
   "cell_type": "code",
   "execution_count": 10,
   "metadata": {},
   "outputs": [
    {
     "name": "stdout",
     "output_type": "stream",
     "text": [
      "Xin chào, tôi là Tom năm nay tôi 25 tuổi.\n"
     ]
    }
   ],
   "source": [
    "class Person: \n",
    "    name: str \n",
    "    age: int \n",
    "    def __init__(self, name: str, age: int) -> None: \n",
    "        self.name = name \n",
    "        self.age = age \n",
    "    \n",
    "    def greet(self) -> str: \n",
    "        return f\"Xin chào, tôi là {self.name} năm nay tôi {self.age} tuổi.\"\n",
    "    \n",
    "if __name__ == '__main__': \n",
    "    person_1 = Person(\"Tom\", 25)\n",
    "    print(person_1.greet())"
   ]
  },
  {
   "cell_type": "markdown",
   "metadata": {},
   "source": [
    "## Combine Type Hints with Mypy"
   ]
  }
 ],
 "metadata": {
  "kernelspec": {
   "display_name": "Nam",
   "language": "python",
   "name": "python3"
  },
  "language_info": {
   "codemirror_mode": {
    "name": "ipython",
    "version": 3
   },
   "file_extension": ".py",
   "mimetype": "text/x-python",
   "name": "python",
   "nbconvert_exporter": "python",
   "pygments_lexer": "ipython3",
   "version": "3.12.2"
  }
 },
 "nbformat": 4,
 "nbformat_minor": 2
}
