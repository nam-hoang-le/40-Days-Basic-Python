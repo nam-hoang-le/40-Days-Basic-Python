{
 "cells": [
  {
   "cell_type": "code",
   "execution_count": 2,
   "metadata": {},
   "outputs": [
    {
     "name": "stdout",
     "output_type": "stream",
     "text": [
      "1. Cà rốt\n",
      "2. Táo\n",
      "3. Sữa\n"
     ]
    }
   ],
   "source": [
    "shopping_list = [\"Cà rốt\", \"Táo\", \"Sữa\"]\n",
    "for idx in range(len(shopping_list)): \n",
    "    print(f\"{idx + 1}. {shopping_list[idx]}\")"
   ]
  },
  {
   "cell_type": "code",
   "execution_count": 3,
   "metadata": {},
   "outputs": [
    {
     "name": "stdout",
     "output_type": "stream",
     "text": [
      "1. Cà rốt\n",
      "2. Táo\n",
      "3. Sữa\n"
     ]
    }
   ],
   "source": [
    "for idx, item in enumerate(shopping_list, start = 1): \n",
    "    print(f\"{idx}. {item}\")"
   ]
  },
  {
   "cell_type": "code",
   "execution_count": 6,
   "metadata": {},
   "outputs": [
    {
     "name": "stdout",
     "output_type": "stream",
     "text": [
      "Sữa được tìm thấy ở hàng 1, cột 3\n",
      "Táo được tìm thấy ở hàng 2, cột 2\n",
      "Cà rốt được tìm thấy ở hàng 3, cột 1\n"
     ]
    }
   ],
   "source": [
    "food_list = [[\"Bơ\", \"Pizza\", \"Sữa\"], \n",
    "             [\"Xúc xích\", \"Táo\", \"Kem\"], \n",
    "             [\"Cà rốt\", \"Bánh dâu\", \"Cupcake\"]]\n",
    "search_items = [\"Cà rốt\", \"Táo\", \"Sữa\"]\n",
    "\n",
    "for i in range(len(food_list)): \n",
    "    for j in range(len(food_list[i])): \n",
    "            if food_list[i][j] in search_items: \n",
    "                print(f\"{food_list[i][j]} được tìm thấy ở hàng {i + 1}, cột {j + 1}\")"
   ]
  },
  {
   "cell_type": "code",
   "execution_count": 8,
   "metadata": {},
   "outputs": [
    {
     "name": "stdout",
     "output_type": "stream",
     "text": [
      "Sữa được tìm thấy ở hàng 1, cột 3\n",
      "Táo được tìm thấy ở hàng 2, cột 2\n",
      "Cà rốt được tìm thấy ở hàng 3, cột 1\n"
     ]
    }
   ],
   "source": [
    "for idx1, row in enumerate(food_list, start = 1): \n",
    "    for idx2, item in enumerate(row, start = 1): \n",
    "            if item in search_items: \n",
    "                print(f\"{item} được tìm thấy ở hàng {idx1}, cột {idx2}\")"
   ]
  }
 ],
 "metadata": {
  "kernelspec": {
   "display_name": "Nam",
   "language": "python",
   "name": "python3"
  },
  "language_info": {
   "codemirror_mode": {
    "name": "ipython",
    "version": 3
   },
   "file_extension": ".py",
   "mimetype": "text/x-python",
   "name": "python",
   "nbconvert_exporter": "python",
   "pygments_lexer": "ipython3",
   "version": "3.12.2"
  }
 },
 "nbformat": 4,
 "nbformat_minor": 2
}
