{
 "cells": [
  {
   "cell_type": "code",
   "execution_count": 1,
   "metadata": {},
   "outputs": [
    {
     "name": "stdout",
     "output_type": "stream",
     "text": [
      "Danh sách mua sắm:\n",
      "1. Cà rốt\n",
      "2. Táo\n",
      "3. Sữa\n"
     ]
    }
   ],
   "source": [
    "shopping_list = ['Cà rốt', 'Táo', 'Sữa']\n",
    "\n",
    "print('Danh sách mua sắm:')\n",
    "for index in range(len(shopping_list)): \n",
    "    print(f'{index + 1}. {shopping_list[index]}')"
   ]
  },
  {
   "cell_type": "code",
   "execution_count": 2,
   "metadata": {},
   "outputs": [
    {
     "name": "stdout",
     "output_type": "stream",
     "text": [
      "Danh sách mua sắm:\n",
      "1. Cà rốt\n",
      "2. Táo\n",
      "3. Sữa\n"
     ]
    }
   ],
   "source": [
    "shopping_list = ['Cà rốt', 'Táo', 'Sữa']\n",
    "\n",
    "print('Danh sách mua sắm:')\n",
    "for index, item in enumerate(shopping_list, start = 1): \n",
    "    print(f'{index}. {item}')"
   ]
  },
  {
   "cell_type": "code",
   "execution_count": 4,
   "metadata": {},
   "outputs": [
    {
     "name": "stdout",
     "output_type": "stream",
     "text": [
      "Cà rốt được tìm thấy ở vị trí hàng 3 và cột 1.\n",
      "Táo được tìm thấy ở vị trí hàng 2 và cột 2.\n",
      "Sữa được tìm thấy ở vị trí hàng 1 và cột 3.\n"
     ]
    }
   ],
   "source": [
    "food_list = [['Bơ', 'Pizza', 'Sữa'], \n",
    "             ['Xúc xích', 'Táo', 'Kem'], \n",
    "             ['Cà rốt', 'Bánh dâu', 'Cupcake']\n",
    "]\n",
    "\n",
    "search_items = ['Cà rốt', 'Táo', 'Sữa']\n",
    "\n",
    "for i in range(len(search_items)): \n",
    "    for j in range(len(food_list)): \n",
    "        for k in range(len(food_list[j])): \n",
    "            if search_items[i] == food_list[j][k]: \n",
    "                print(f'{search_items[i]} được tìm thấy ở vị trí hàng {j+1} và cột {k+1}.')"
   ]
  },
  {
   "cell_type": "code",
   "execution_count": 10,
   "metadata": {},
   "outputs": [
    {
     "name": "stdout",
     "output_type": "stream",
     "text": [
      "Sữa được tìm thấy ở vị trí hàng 1 và cột 3.\n",
      "Táo được tìm thấy ở vị trí hàng 2 và cột 2.\n",
      "Cà rốt được tìm thấy ở vị trí hàng 3 và cột 1.\n"
     ]
    }
   ],
   "source": [
    "food_list = [['Bơ', 'Pizza', 'Sữa'], \n",
    "             ['Xúc xích', 'Táo', 'Kem'], \n",
    "             ['Cà rốt', 'Bánh dâu', 'Cupcake']\n",
    "]\n",
    "\n",
    "search_items = ['Cà rốt', 'Táo', 'Sữa']\n",
    "\n",
    "for i, row in enumerate(food_list, start = 1): \n",
    "    for j, item in enumerate(row, start = 1): \n",
    "        if item in search_items: \n",
    "            print(f'{item} được tìm thấy ở vị trí hàng {i} và cột {j}.')"
   ]
  },
  {
   "cell_type": "code",
   "execution_count": null,
   "metadata": {},
   "outputs": [],
   "source": []
  }
 ],
 "metadata": {
  "kernelspec": {
   "display_name": "Nam",
   "language": "python",
   "name": "python3"
  },
  "language_info": {
   "codemirror_mode": {
    "name": "ipython",
    "version": 3
   },
   "file_extension": ".py",
   "mimetype": "text/x-python",
   "name": "python",
   "nbconvert_exporter": "python",
   "pygments_lexer": "ipython3",
   "version": "3.12.2"
  }
 },
 "nbformat": 4,
 "nbformat_minor": 2
}
