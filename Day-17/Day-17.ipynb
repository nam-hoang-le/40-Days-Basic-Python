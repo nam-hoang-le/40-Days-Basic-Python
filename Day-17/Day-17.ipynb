{
 "cells": [
  {
   "cell_type": "code",
   "execution_count": 1,
   "metadata": {},
   "outputs": [],
   "source": [
    "mat_a = [[1, 2, 3], [4, 5, 6], [7, 8, 9]]\n",
    "mat_b = [[2, 4, 6], [1, 3, 5], [1, 0, 1]]\n",
    "\n",
    "mat_sum = []\n",
    "for i in range(len(mat_a)): \n",
    "    mini_mat = []\n",
    "    for j in range(len(mat_a[0])): \n",
    "        mini_mat.append(mat_a[i][j] + mat_b[i][j])\n",
    "    mat_sum.append(mini_mat)"
   ]
  },
  {
   "cell_type": "code",
   "execution_count": 2,
   "metadata": {},
   "outputs": [
    {
     "data": {
      "text/plain": [
       "[[3, 6, 9], [5, 8, 11], [8, 8, 10]]"
      ]
     },
     "execution_count": 2,
     "metadata": {},
     "output_type": "execute_result"
    }
   ],
   "source": [
    "mat_sum"
   ]
  },
  {
   "cell_type": "code",
   "execution_count": 3,
   "metadata": {},
   "outputs": [],
   "source": [
    "mat_a = [[1, 2, 3], [4, 5, 6], [7, 8, 9]]\n",
    "mat_b = [[2, 4, 6], [1, 3, 5], [1, 0, 1]]\n",
    "\n",
    "mat_minus = []\n",
    "for i in range(len(mat_a)): \n",
    "    mini_mat = []\n",
    "    for j in range(len(mat_a[0])): \n",
    "        mini_mat.append(mat_a[i][j] - mat_b[i][j])\n",
    "    mat_minus.append(mini_mat)"
   ]
  },
  {
   "cell_type": "code",
   "execution_count": 4,
   "metadata": {},
   "outputs": [
    {
     "data": {
      "text/plain": [
       "[[-1, -2, -3], [3, 2, 1], [6, 8, 8]]"
      ]
     },
     "execution_count": 4,
     "metadata": {},
     "output_type": "execute_result"
    }
   ],
   "source": [
    "mat_minus"
   ]
  },
  {
   "cell_type": "code",
   "execution_count": 10,
   "metadata": {},
   "outputs": [
    {
     "ename": "TypeError",
     "evalue": "'list' object is not callable",
     "output_type": "error",
     "traceback": [
      "\u001b[1;31m---------------------------------------------------------------------------\u001b[0m",
      "\u001b[1;31mTypeError\u001b[0m                                 Traceback (most recent call last)",
      "Cell \u001b[1;32mIn[10], line 8\u001b[0m\n\u001b[0;32m      6\u001b[0m             lst_sum \u001b[38;5;241m=\u001b[39m []\n\u001b[0;32m      7\u001b[0m             lst_sum\u001b[38;5;241m.\u001b[39mappend(mat_a[i][j] \u001b[38;5;241m*\u001b[39m mat_b[j][i])\n\u001b[1;32m----> 8\u001b[0m             \u001b[38;5;28msum\u001b[39m\u001b[38;5;241m.\u001b[39mappend(\u001b[38;5;28;43msum\u001b[39;49m\u001b[43m(\u001b[49m\u001b[43mlst_sum\u001b[49m\u001b[43m)\u001b[49m)\n\u001b[0;32m      9\u001b[0m \u001b[38;5;28msum\u001b[39m\n",
      "\u001b[1;31mTypeError\u001b[0m: 'list' object is not callable"
     ]
    }
   ],
   "source": [
    "total = []\n",
    "for k in range(len(mat_a)): \n",
    "    for i in range(len(mat_a)): \n",
    "        sum = []\n",
    "        for j in range(len(mat_a)): \n",
    "            lst_sum = []\n",
    "            lst_sum.append(mat_a[i][j] * mat_b[j][i])\n",
    "            sum.append(sum(lst_sum))\n",
    "sum"
   ]
  },
  {
   "cell_type": "code",
   "execution_count": 9,
   "metadata": {},
   "outputs": [
    {
     "ename": "TypeError",
     "evalue": "'list' object is not callable",
     "output_type": "error",
     "traceback": [
      "\u001b[1;31m---------------------------------------------------------------------------\u001b[0m",
      "\u001b[1;31mTypeError\u001b[0m                                 Traceback (most recent call last)",
      "Cell \u001b[1;32mIn[9], line 1\u001b[0m\n\u001b[1;32m----> 1\u001b[0m \u001b[38;5;28;43msum\u001b[39;49m\u001b[43m(\u001b[49m\u001b[43m[\u001b[49m\u001b[38;5;241;43m1\u001b[39;49m\u001b[43m,\u001b[49m\u001b[43m \u001b[49m\u001b[38;5;241;43m2\u001b[39;49m\u001b[43m,\u001b[49m\u001b[43m \u001b[49m\u001b[38;5;241;43m3\u001b[39;49m\u001b[43m]\u001b[49m\u001b[43m)\u001b[49m\n",
      "\u001b[1;31mTypeError\u001b[0m: 'list' object is not callable"
     ]
    }
   ],
   "source": [
    "\n",
    "sum([1, 2, 3])\n"
   ]
  },
  {
   "cell_type": "code",
   "execution_count": null,
   "metadata": {},
   "outputs": [],
   "source": []
  },
  {
   "cell_type": "code",
   "execution_count": null,
   "metadata": {},
   "outputs": [],
   "source": []
  },
  {
   "cell_type": "code",
   "execution_count": null,
   "metadata": {},
   "outputs": [],
   "source": []
  },
  {
   "cell_type": "code",
   "execution_count": null,
   "metadata": {},
   "outputs": [],
   "source": []
  }
 ],
 "metadata": {
  "kernelspec": {
   "display_name": "Nam",
   "language": "python",
   "name": "python3"
  },
  "language_info": {
   "codemirror_mode": {
    "name": "ipython",
    "version": 3
   },
   "file_extension": ".py",
   "mimetype": "text/x-python",
   "name": "python",
   "nbconvert_exporter": "python",
   "pygments_lexer": "ipython3",
   "version": "3.10.14"
  }
 },
 "nbformat": 4,
 "nbformat_minor": 2
}
